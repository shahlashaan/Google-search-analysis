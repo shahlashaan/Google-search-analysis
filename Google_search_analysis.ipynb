{
 "cells": [
  {
   "cell_type": "code",
   "execution_count": 8,
   "metadata": {},
   "outputs": [],
   "source": [
    "import pandas as pd\n",
    "from pytrends.request import TrendReq\n",
    "import matplotlib.pyplot as plt\n",
    "import time\n",
    "\n",
    "Trending_topics = TrendReq(hl='en-US',tz=360)"
   ]
  },
  {
   "cell_type": "code",
   "execution_count": 9,
   "metadata": {},
   "outputs": [],
   "source": [
    "kw_list = [\"Cloud Computing\"]\n",
    "Trending_topics.build_payload(kw_list,cat=0,timeframe=\"today 12-m\")\n",
    "time.sleep(5)"
   ]
  },
  {
   "cell_type": "code",
   "execution_count": 11,
   "metadata": {},
   "outputs": [
    {
     "name": "stdout",
     "output_type": "stream",
     "text": [
      "            Cloud Computing  isPartial\n",
      "date                                  \n",
      "2023-12-03              100      False\n",
      "2023-12-10              100      False\n",
      "2023-11-26               89      False\n",
      "2024-05-19               88      False\n",
      "2024-01-28               87      False\n",
      "2024-02-04               84      False\n",
      "2024-01-21               82      False\n",
      "2024-02-25               82      False\n",
      "2024-02-18               81      False\n",
      "2024-01-07               81      False\n"
     ]
    },
    {
     "name": "stderr",
     "output_type": "stream",
     "text": [
      "c:\\Shaan\\Study_Material_for_Lazy_Shaan\\DataAnalysis\\Google search analysis\\.venv\\lib\\site-packages\\pytrends\\request.py:260: FutureWarning: Downcasting object dtype arrays on .fillna, .ffill, .bfill is deprecated and will change in a future version. Call result.infer_objects(copy=False) instead. To opt-in to the future behavior, set `pd.set_option('future.no_silent_downcasting', True)`\n",
      "  df = df.fillna(False)\n"
     ]
    }
   ],
   "source": [
    "data = Trending_topics.interest_over_time()\n",
    "data = data.sort_values(by=\"Cloud Computing\", ascending=False)\n",
    "data = data.head(10)\n",
    "print(data)"
   ]
  },
  {
   "cell_type": "code",
   "execution_count": 12,
   "metadata": {},
   "outputs": [
    {
     "name": "stdout",
     "output_type": "stream",
     "text": [
      "            Cloud Computing  isPartial\n",
      "date                                  \n",
      "2023-12-03              100      False\n",
      "2023-12-10              100      False\n",
      "2023-11-26               89      False\n",
      "2024-05-19               88      False\n",
      "2024-01-28               87      False\n",
      "2024-02-04               84      False\n",
      "2024-01-21               82      False\n",
      "2024-02-25               82      False\n",
      "2024-02-18               81      False\n",
      "2024-01-07               81      False\n"
     ]
    }
   ],
   "source": [
    "Trending_topics.build_payload(kw_list,cat=0,timeframe=\"2024-01-01 2024-02-01\", geo='',gprop='')\n",
    "data2 = Trending_topics.interest_over_time()\n",
    "data2 = data.sort_values(by=\"Cloud Computing\", ascending = False)\n",
    "data2 = data2.head(10)\n",
    "print(data2)"
   ]
  },
  {
   "cell_type": "code",
   "execution_count": 13,
   "metadata": {},
   "outputs": [
    {
     "name": "stdout",
     "output_type": "stream",
     "text": [
      "            Cloud Computing\n",
      "geoName                    \n",
      "Nepal                   100\n",
      "Ethiopia                 99\n",
      "St. Helena               99\n",
      "India                    72\n",
      "Cameroon                 66\n"
     ]
    }
   ],
   "source": [
    "data3 = Trending_topics.interest_by_region()\n",
    "data3 = data3.sort_values(by=\"Cloud Computing\", ascending = False)\n",
    "data3 = data3.head()\n",
    "print(data3)"
   ]
  },
  {
   "cell_type": "code",
   "execution_count": 14,
   "metadata": {},
   "outputs": [
    {
     "data": {
      "image/png": "[encoded data removed]",
      "text/plain": [
       "<Figure size 1000x500 with 1 Axes>"
      ]
     },
     "metadata": {},
     "output_type": "display_data"
    }
   ],
   "source": [
    "data3.reset_index().plot(x='geoName',y='Cloud Computing',figsize=(10,5), kind=\"bar\")\n",
    "plt.style.use('fivethirtyeight')\n",
    "plt.show()"
   ]
  },
  {
   "cell_type": "code",
   "execution_count": 20,
   "metadata": {},
   "outputs": [
    {
     "name": "stdout",
     "output_type": "stream",
     "text": [
      "                    title   exploreQuery\n",
      "0  War in Israel and Gaza    Israel Gaza\n",
      "1       Titanic submarine               \n",
      "2       Turkey earthquake               \n",
      "3        Hurricane Hilary               \n",
      "4        Hurricane Idalia               \n",
      "5           Hurricane Lee               \n",
      "6          Maine shooting               \n",
      "7      Nashville shooting               \n",
      "8           Chandrayaan-3  Chandrayaan 3\n",
      "9            War in Sudan          Sudan\n"
     ]
    }
   ],
   "source": [
    "df = Trending_topics.top_charts(2023, hl='en-US',tz=300,geo=\"GLOBAL\")\n",
    "print(df.head(10))"
   ]
  },
  {
   "cell_type": "code",
   "execution_count": 27,
   "metadata": {},
   "outputs": [
    {
     "name": "stdout",
     "output_type": "stream",
     "text": [
      "No related queries found for 'AI'\n"
     ]
    }
   ],
   "source": [
    "try:\n",
    "    Trending_topics.build_payload(kw_list=['AI'])\n",
    "    related_queries = Trending_topics.related_queries()\n",
    "    related_queries.values()\n",
    "except (KeyError, IndexError):\n",
    "    print(\"No related queries found for 'AI'\")"
   ]
  },
  {
   "cell_type": "code",
   "execution_count": null,
   "metadata": {},
   "outputs": [],
   "source": [
    "keywords = Trending_topics.suggestions(keyword='Cloud Computing')\n",
    "df = pd.DataFrame(keywords)\n"
   ]
  },
  {
   "cell_type": "code",
   "execution_count": 29,
   "metadata": {},
   "outputs": [
    {
     "data": {
      "text/html": [
       "<div>\n",
       "<style scoped>\n",
       "    .dataframe tbody tr th:only-of-type {\n",
       "        vertical-align: middle;\n",
       "    }\n",
       "\n",
       "    .dataframe tbody tr th {\n",
       "        vertical-align: top;\n",
       "    }\n",
       "\n",
       "    .dataframe thead th {\n",
       "        text-align: right;\n",
       "    }\n",
       "</style>\n",
       "<table border=\"1\" class=\"dataframe\">\n",
       "  <thead>\n",
       "    <tr style=\"text-align: right;\">\n",
       "      <th></th>\n",
       "      <th>title</th>\n",
       "      <th>type</th>\n",
       "    </tr>\n",
       "  </thead>\n",
       "  <tbody>\n",
       "    <tr>\n",
       "      <th>0</th>\n",
       "      <td>Cloud computing</td>\n",
       "      <td>Topic</td>\n",
       "    </tr>\n",
       "    <tr>\n",
       "      <th>1</th>\n",
       "      <td>Cloud computing</td>\n",
       "      <td>Topic</td>\n",
       "    </tr>\n",
       "    <tr>\n",
       "      <th>2</th>\n",
       "      <td>Cloud computing security</td>\n",
       "      <td>Topic</td>\n",
       "    </tr>\n",
       "    <tr>\n",
       "      <th>3</th>\n",
       "      <td>Alibaba Cloud</td>\n",
       "      <td>Computer software company</td>\n",
       "    </tr>\n",
       "    <tr>\n",
       "      <th>4</th>\n",
       "      <td>Private cloud computing infrastructure</td>\n",
       "      <td>Topic</td>\n",
       "    </tr>\n",
       "  </tbody>\n",
       "</table>\n",
       "</div>"
      ],
      "text/plain": [
       "                                    title                       type\n",
       "0                         Cloud computing                      Topic\n",
       "1                         Cloud computing                      Topic\n",
       "2                Cloud computing security                      Topic\n",
       "3                           Alibaba Cloud  Computer software company\n",
       "4  Private cloud computing infrastructure                      Topic"
      ]
     },
     "execution_count": 29,
     "metadata": {},
     "output_type": "execute_result"
    }
   ],
   "source": [
    "df.drop(columns='mid')"
   ]
  }
 ],
 "metadata": {
  "kernelspec": {
   "display_name": ".venv",
   "language": "python",
   "name": "python3"
  },
  "language_info": {
   "codemirror_mode": {
    "name": "ipython",
    "version": 3
   },
   "file_extension": ".py",
   "mimetype": "text/x-python",
   "name": "python",
   "nbconvert_exporter": "python",
   "pygments_lexer": "ipython3",
   "version": "3.9.13"
  }
 },
 "nbformat": 4,
 "nbformat_minor": 2
}
